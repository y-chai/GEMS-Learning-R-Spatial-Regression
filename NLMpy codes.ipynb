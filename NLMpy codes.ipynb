{
 "cells": [
  {
   "cell_type": "code",
   "execution_count": 7,
   "id": "a2117732-7e84-4e41-9848-7ef91a4d1181",
   "metadata": {},
   "outputs": [],
   "source": [
    "from nlmpy import nlmpy\n",
    "import matplotlib.pyplot as plt\n",
    "import matplotlib as mpl"
   ]
  },
  {
   "cell_type": "code",
   "execution_count": 13,
   "id": "015fc42e-4c09-47f9-917e-f1eca8c538b8",
   "metadata": {},
   "outputs": [],
   "source": [
    "# nlm = nlmpy.planarGradient(nRow=50, nCol=50)\n",
    "nlm = nlmpy.randomClusterNN(nRow=50, nCol=50, p=0.75)"
   ]
  },
  {
   "cell_type": "code",
   "execution_count": 14,
   "id": "52b1da23-0439-4fae-9e24-2d8b757ea1e2",
   "metadata": {},
   "outputs": [
    {
     "data": {
      "text/plain": [
       "<matplotlib.image.AxesImage at 0x7ff38c816e60>"
      ]
     },
     "execution_count": 14,
     "metadata": {},
     "output_type": "execute_result"
    },
    {
     "data": {
      "image/png": "[encoded data removed]",
      "text/plain": [
       "<Figure size 432x288 with 1 Axes>"
      ]
     },
     "metadata": {
      "needs_background": "light"
     },
     "output_type": "display_data"
    }
   ],
   "source": [
    "# Make continuous colour map\n",
    "cmapCont = mpl.colors.LinearSegmentedColormap.from_list('heat', ['#000000', '#bd0026', '#bd0026', '#fd8d3c', '#fecc5c'])\n",
    "\n",
    "fig = plt.figure(1)\n",
    "plt.imshow(nlm)\n"
   ]
  },
  {
   "cell_type": "code",
   "execution_count": 11,
   "id": "4de95b2e-24ee-4007-ac57-fe67fbc939f1",
   "metadata": {},
   "outputs": [],
   "source": [
    "nlmpy.exportASCIIGrid(\"./data/ras/raster.asc\", nlm)"
   ]
  },
  {
   "cell_type": "code",
   "execution_count": null,
   "id": "e2a7578f-568d-43f5-b73d-47bddcce4503",
   "metadata": {},
   "outputs": [],
   "source": []
  }
 ],
 "metadata": {
  "kernelspec": {
   "display_name": "Python 3 (ipykernel)",
   "language": "python",
   "name": "python3"
  },
  "language_info": {
   "codemirror_mode": {
    "name": "ipython",
    "version": 3
   },
   "file_extension": ".py",
   "mimetype": "text/x-python",
   "name": "python",
   "nbconvert_exporter": "python",
   "pygments_lexer": "ipython3",
   "version": "3.10.2"
  }
 },
 "nbformat": 4,
 "nbformat_minor": 5
}
