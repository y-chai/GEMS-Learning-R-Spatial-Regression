{
 "cells": [
  {
   "cell_type": "markdown",
   "id": "5afde9ec-93ca-411f-81e6-085a960d516d",
   "metadata": {},
   "source": [
    "<img src=\"images/GEMS long.png\" width=600 alt=\"GEMS Logo\" title=\"GEMS\" />"
   ]
  },
  {
   "cell_type": "markdown",
   "id": "80f7c118-aed9-4860-ae14-f6251f982156",
   "metadata": {
    "tags": []
   },
   "source": [
    "# **Spatial Regression**\n",
    "\n",
    "**Instructors:**  \n",
    "Yuan Chai (chaix026@umn.edu)  \n",
    "Ali Joglekar (joglekar@umn.edu)  \n",
    "\n",
    "---\n",
    "\n",
    "## Method of Delivery\n",
    "- Workshop text, images and R code are all contained within a Jupyter Notebook hosted on the GEMS Informatics Platform. You do not need to have R or RStudio installed on your machine to participate\n",
    "- A recording of the workshop will be posted on Canvas\n",
    "- Please download any desired materials, as we cannot guarantee access to the Canvas course beyond 3 months.  \n",
    "\n",
    "---  \n",
    "\n",
    "## Module Outline: \n",
    "- [Raster data in R](#Raster)  \n",
    "  - [Exercise 1](#Ex1)\n",
    "- [Raster manipulation](#Manipulation) \n",
    "- [Spatial operations](#SpOp)\n",
    "  - [Exercise 2](#Ex2)\n",
    "- [Geometry operations](#GeomOp)  \n",
    "  - [Exercise 3](#Ex3)\n",
    "- [Raster-Vector interactions](#RasVec)\n",
    "  - [Exercise 4](#Ex4)\n",
    "\n",
    "---  \n"
   ]
  },
  {
   "cell_type": "markdown",
   "id": "4e55eb90-e698-4f23-8ec7-a113d4e6f941",
   "metadata": {},
   "source": [
    "### **Load R Libraries**"
   ]
  },
  {
   "cell_type": "code",
   "execution_count": null,
   "id": "09a61e31-69a1-4631-a05e-8b7dd92d1e43",
   "metadata": {
    "tags": []
   },
   "outputs": [],
   "source": [
    "# Install and load packages needed for this workshop\n",
    "\n",
    "packages_to_load <- c(\"raster\", \"sf\", \"tmap\", \"data.table\")\n",
    "\n",
    "for ( package in packages_to_load ) {\n",
    "    # Check if package is already installed, if not, install and load the package\n",
    "    if (!require(package, character.only=T, quietly=T, warn.conflicts=F)) {\n",
    "        install.packages(package)\n",
    "        suppressPackageStartupMessages(library(package, character.only=T, quietly=T, warn.conflicts=F))\n",
    "    }\n",
    "}\n",
    "\n",
    "# Set plot options\n",
    "options(repr.plot.width = 8, repr.plot.height = 4)\n"
   ]
  },
  {
   "cell_type": "markdown",
   "id": "7027df3e-2d86-4aad-83ee-f75dd19769d0",
   "metadata": {},
   "source": [
    "<details>\n",
    "    \n",
    "<summary><span style='color:Green'> Note: For your own work, once packages are installed, it is recommended to just use library() to load your packages  </span></summary>\n",
    "\n",
    "\n",
    "```\n",
    "# Spatial data libraries\n",
    "library(raster)\n",
    "library(sf)\n",
    "\n",
    "# Plotting libraries\n",
    "library(tmap)\n",
    "\n",
    "# General data analysis libraries\n",
    "library(data.table)\n",
    "```\n",
    "----\n",
    "          \n",
    "</details>\n"
   ]
  },
  {
   "cell_type": "markdown",
   "id": "9a487225-8a34-4d45-94a0-ad5e4befda2e",
   "metadata": {},
   "source": [
    "### Data\n",
    "\n",
    "Your expercises will draw on datasets from the Spatial Production Allocation Model (SPAM) and Minnesota Geospatial Commons, which have been downloaded, cleaned, transformed and saved in the directory `./data/MN` for this workshop.\n",
    "\n",
    "### Attribution\n",
    "\n",
    "The following material draws heavily from Robin Lovelace's [Geocomputation with R](https://geocompr.robinlovelace.net/index.html) textbook."
   ]
  },
  {
   "cell_type": "markdown",
   "id": "ad508634-8e09-4c2c-84c7-e8a3dec5d1f6",
   "metadata": {},
   "source": [
    "<a id=\"Raster\"></a>\n",
    "## **Spatial Dependence**\n",
    "\n",
    "When dealing with space, one must bear in mind Tobler’s first law of geography  \n",
    "\n",
    "  > **“Everything is related to everything else, but close things are more related than things that are far apart”**  \n",
    "  > --Tobler (1979)  \n",
    "  \n",
    "In this section we’ll focus on the specification of spatial dependence, on specification tests to detect spatial dependence in regressions models and on basic regression models that incorporate spatial dependence.\n",
    "\n"
   ]
  },
  {
   "cell_type": "markdown",
   "id": "dc79b1ae-ab20-47ab-a276-c4b0089f52d2",
   "metadata": {
    "tags": []
   },
   "source": [
    "<a id=\"Ex1\"></a>\n",
    "### **<span style='color:Green'> Exercise 1: Read in raster files and create raster stack </span>**   "
   ]
  },
  {
   "cell_type": "markdown",
   "id": "405855b6-60ac-46db-b8cd-b8258c7f3e47",
   "metadata": {},
   "source": [
    "In this exercise, we will first read in raster files (in `.tif` format) which contains the maize harvested area and production in Minnesota and then create a raster stack.  \n"
   ]
  },
  {
   "cell_type": "markdown",
   "id": "bed19374-fb62-4db4-992a-0e39cd9867e1",
   "metadata": {},
   "source": [
    "**Step 1:** Use the `raster()` function to read in raster files from the `'./data/MN/spam/` directory.    \n",
    "\n",
    ">file `./data/MN/spam/spam_H_MAIZ_A_mn.tif` is the Harvested Area (in hecacres) for Maize in Minnesota  \n",
    ">file `./data/MN/spam/spam_P_MAIZ_A_mn.tif` is the Production (in metric tons) for Maize in Minnesota  \n",
    "\n",
    "Use various summarizing functions (e.g., `extent()`, `res()`, `crs()`) to check the two raster files having the same extent and resolution"
   ]
  },
  {
   "cell_type": "code",
   "execution_count": null,
   "id": "5e0ab1fa-2cb1-42d4-85fa-bcdf3058d14e",
   "metadata": {},
   "outputs": [],
   "source": [
    "# Read in raster files\n",
    "spam_H_MAIZ_A_mn <- raster(\"./data/MN/spam/spam_H_MAIZ_A_mn.tif\")\n",
    "spam_P_MAIZ_A_mn <- raster(\"./data/MN/spam/spam_P_MAIZ_A_mn.tif\")"
   ]
  },
  {
   "cell_type": "code",
   "execution_count": null,
   "id": "27b55bb4-8403-44fb-a22d-1f58a2427847",
   "metadata": {},
   "outputs": [],
   "source": [
    "# Check for extent, resolution, and crs\n"
   ]
  },
  {
   "cell_type": "markdown",
   "id": "a3355dbd-cc5a-48a1-b946-fa036a1b59f1",
   "metadata": {},
   "source": [
    "<details>\n",
    "    \n",
    "<summary><span style='color:Green'> Click to see answer  </span></summary>\n",
    "\n",
    "```\n",
    "# Read in raster files\n",
    "spam_H_MAIZ_A_mn <- raster(\"./data/MN/spam/spam_H_MAIZ_A_mn.tif\")\n",
    "spam_P_MAIZ_A_mn <- raster(\"./data/MN/spam/spam_P_MAIZ_A_mn.tif\")\n",
    "\n",
    "# Check for extent, resolution, and crs\n",
    "extent(spam_H_MAIZ_A_mn)\n",
    "extent(spam_P_MAIZ_A_mn)\n",
    "\n",
    "res(spam_H_MAIZ_A_mn)\n",
    "res(spam_P_MAIZ_A_mn)\n",
    "\n",
    "crs(spam_H_MAIZ_A_mn)\n",
    "crs(spam_P_MAIZ_A_mn)\n",
    "```\n",
    "----\n",
    "          \n",
    "</details>"
   ]
  },
  {
   "cell_type": "markdown",
   "id": "933433cc-fe14-4ffd-b871-9275ffce1c94",
   "metadata": {
    "tags": []
   },
   "source": [
    "<a id=\"Ex5\"></a>\n",
    "### **<span style='color:Green'> At-home Exercise: Learn `terra`  </span>**   \n",
    "\n",
    "Now that you are familiar with raster data operations in R, it is recommended that you learn `terra` on your own and start use R for raster data analysis for your own work.\n",
    "\n",
    "Some useful resources to get you started  \n",
    ">**[The `terra` package](https://rspatial.org/terra/pkg/index.html)**  \n",
    "\n",
    ">**[A comparison of terra and raster packages](https://www.r-bloggers.com/2021/05/a-comparison-of-terra-and-raster-packages/)**  \n",
    "\n",
    ">**[Spatial Data Science with R and “terra”](https://rspatial.org/terra/index.html)**\n",
    "\n"
   ]
  }
 ],
 "metadata": {
  "kernelspec": {
   "display_name": "R",
   "language": "R",
   "name": "ir"
  },
  "language_info": {
   "codemirror_mode": "r",
   "file_extension": ".r",
   "mimetype": "text/x-r-source",
   "name": "R",
   "pygments_lexer": "r",
   "version": "4.1.2"
  }
 },
 "nbformat": 4,
 "nbformat_minor": 5
}
